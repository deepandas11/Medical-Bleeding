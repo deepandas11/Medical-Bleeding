{
 "nbformat": 4,
 "nbformat_minor": 2,
 "metadata": {
  "language_info": {
   "name": "python",
   "codemirror_mode": {
    "name": "ipython",
    "version": 3
   },
   "version": "3.7.1-final"
  },
  "orig_nbformat": 2,
  "file_extension": ".py",
  "mimetype": "text/x-python",
  "name": "python",
  "npconvert_exporter": "python",
  "pygments_lexer": "ipython3",
  "version": 3,
  "kernelspec": {
   "name": "python37164bitbaseconda8caeb60410984aecbb4eb2b062376c73",
   "display_name": "Python 3.7.1 64-bit ('base': conda)"
  }
 },
 "cells": [
  {
   "cell_type": "code",
   "execution_count": null,
   "metadata": {},
   "outputs": [],
   "source": []
  },
  {
   "cell_type": "code",
   "execution_count": 4,
   "metadata": {},
   "outputs": [],
   "source": [
    "imageList = [\"bbx_data/\"+str(file_name) for file_name in os.listdir('bbx_data/') if 'jpg' in file_name]\n",
    "labelList = [\"bbx_data/\"+str(file_name) for file_name in os.listdir('bbx_data/') if 'txt' in file_name]\n"
   ]
  },
  {
   "cell_type": "code",
   "execution_count": 3,
   "metadata": {},
   "outputs": [],
   "source": [
    "import os\n",
    "import sys\n",
    "import json\n",
    "import numpy as np"
   ]
  },
  {
   "cell_type": "code",
   "execution_count": 5,
   "metadata": {},
   "outputs": [
    {
     "data": {
      "text/plain": "'bbx_data/20_12_orig.jpg'"
     },
     "execution_count": 5,
     "metadata": {},
     "output_type": "execute_result"
    }
   ],
   "source": [
    "imageList[0]"
   ]
  },
  {
   "cell_type": "code",
   "execution_count": 6,
   "metadata": {},
   "outputs": [
    {
     "data": {
      "text/plain": "array([0.     , 0.63875, 0.47375, 0.0125 , 0.0175 ])"
     },
     "execution_count": 6,
     "metadata": {},
     "output_type": "execute_result"
    }
   ],
   "source": [
    "np.genfromtxt(labelList[0])"
   ]
  },
  {
   "cell_type": "code",
   "execution_count": 7,
   "metadata": {},
   "outputs": [],
   "source": [
    "images = dict()"
   ]
  },
  {
   "cell_type": "code",
   "execution_count": 8,
   "metadata": {},
   "outputs": [],
   "source": [
    "imageList.sort()"
   ]
  },
  {
   "cell_type": "code",
   "execution_count": 10,
   "metadata": {},
   "outputs": [],
   "source": [
    "i = 0\n",
    "curpid = 0\n",
    "for i, item in enumerate(imageList):\n",
    "    key = item.split('/')[1]\n",
    "    pid = key.split('_')[0]\n",
    "    fid = key.split('_')[1]\n",
    "    label = list(np.genfromtxt(labelList[i]))\n",
    "\n",
    "    if pid != curpid:\n",
    "        i = 0\n",
    "        curpid = pid\n",
    "\n",
    "    if pid not in images:\n",
    "        images[pid] = {}\n",
    "\n",
    "    images[pid][fid] = {\n",
    "        \"label\" : label,\n",
    "        # \"index\": i,\n",
    "        \"img_path\" : item\n",
    "    }\n",
    "        \n"
   ]
  },
  {
   "cell_type": "code",
   "execution_count": 14,
   "metadata": {},
   "outputs": [
    {
     "data": {
      "text/plain": "{'14': {'label': [0.0, 0.17125, 0.58375, 0.0575, 0.08750000000000001],\n  'img_path': 'bbx_data/60_14_orig.jpg'},\n '16': {'label': [0.0, 0.56875, 0.4375, 0.0225, 0.04],\n  'img_path': 'bbx_data/60_16_orig.jpg'},\n '18': {'label': [0.0, 0.275, 0.2275, 0.115, 0.125],\n  'img_path': 'bbx_data/60_18_orig.jpg'},\n '28': {'label': [0.0, 0.68125, 0.32375, 0.0325, 0.0375],\n  'img_path': 'bbx_data/60_28_orig.jpg'},\n '30': {'label': [0.0, 0.17125, 0.6425, 0.0575, 0.055],\n  'img_path': 'bbx_data/60_30_orig.jpg'},\n '32': {'label': [0.0, 0.15875, 0.655, 0.0775, 0.06875],\n  'img_path': 'bbx_data/60_32_orig.jpg'},\n '33': {'label': [0.0, 0.23125, 0.37, 0.0775, 0.14],\n  'img_path': 'bbx_data/60_33_orig.jpg'}}"
     },
     "execution_count": 14,
     "metadata": {},
     "output_type": "execute_result"
    }
   ],
   "source": [
    "images['60']"
   ]
  },
  {
   "cell_type": "code",
   "execution_count": 28,
   "metadata": {},
   "outputs": [
    {
     "data": {
      "text/plain": "{'PID': '68',\n 'label': [0.0, 0.325, 0.50875, 0.055, 0.0725],\n 'FID': '16',\n 'img_path': 'bbx_data/68_16_orig.jpg'}"
     },
     "execution_count": 28,
     "metadata": {},
     "output_type": "execute_result"
    }
   ],
   "source": [
    "images['68_16_orig.jpg']"
   ]
  },
  {
   "cell_type": "code",
   "execution_count": 15,
   "metadata": {},
   "outputs": [],
   "source": [
    "with open('data_aug.json', 'w', encoding='utf-8') as f:\n",
    "    json.dump(images, f)\n",
    "\n"
   ]
  },
  {
   "cell_type": "code",
   "execution_count": null,
   "metadata": {},
   "outputs": [],
   "source": []
  }
 ]
}