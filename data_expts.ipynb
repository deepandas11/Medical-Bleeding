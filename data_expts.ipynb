{
 "nbformat": 4,
 "nbformat_minor": 2,
 "metadata": {
  "language_info": {
   "name": "python",
   "codemirror_mode": {
    "name": "ipython",
    "version": 3
   },
   "version": "3.7.1-final"
  },
  "orig_nbformat": 2,
  "file_extension": ".py",
  "mimetype": "text/x-python",
  "name": "python",
  "npconvert_exporter": "python",
  "pygments_lexer": "ipython3",
  "version": 3,
  "kernelspec": {
   "name": "python37164bitbaseconda8caeb60410984aecbb4eb2b062376c73",
   "display_name": "Python 3.7.1 64-bit ('base': conda)"
  }
 },
 "cells": [
  {
   "cell_type": "code",
   "execution_count": null,
   "metadata": {},
   "outputs": [],
   "source": []
  },
  {
   "cell_type": "code",
   "execution_count": 4,
   "metadata": {},
   "outputs": [],
   "source": [
    "imageList = [\"bbx_data/\"+str(file_name) for file_name in os.listdir('bbx_data/') if 'jpg' in file_name]\n",
    "labelList = [\"bbx_data/\"+str(file_name) for file_name in os.listdir('bbx_data/') if 'txt' in file_name]\n"
   ]
  },
  {
   "cell_type": "code",
   "execution_count": 3,
   "metadata": {},
   "outputs": [],
   "source": [
    "import os\n",
    "import sys\n",
    "import json\n",
    "import numpy as np"
   ]
  },
  {
   "cell_type": "code",
   "execution_count": 5,
   "metadata": {},
   "outputs": [
    {
     "data": {
      "text/plain": "'bbx_data/20_12_orig.jpg'"
     },
     "execution_count": 5,
     "metadata": {},
     "output_type": "execute_result"
    }
   ],
   "source": [
    "imageList[0]"
   ]
  },
  {
   "cell_type": "code",
   "execution_count": 6,
   "metadata": {},
   "outputs": [
    {
     "data": {
      "text/plain": "array([0.     , 0.63875, 0.47375, 0.0125 , 0.0175 ])"
     },
     "execution_count": 6,
     "metadata": {},
     "output_type": "execute_result"
    }
   ],
   "source": [
    "np.genfromtxt(labelList[0])"
   ]
  },
  {
   "cell_type": "code",
   "execution_count": 7,
   "metadata": {},
   "outputs": [],
   "source": [
    "images = dict()"
   ]
  },
  {
   "cell_type": "code",
   "execution_count": 8,
   "metadata": {},
   "outputs": [],
   "source": [
    "imageList.sort()"
   ]
  },
  {
   "cell_type": "code",
   "execution_count": 27,
   "metadata": {},
   "outputs": [],
   "source": [
    "i = 0\n",
    "curpid = 0\n",
    "for i, item in enumerate(imageList):\n",
    "    key = item.split('/')[1]\n",
    "    pid = key.split('_')[0]\n",
    "    fid = key.split('_')[1]\n",
    "    label = list(np.genfromtxt(labelList[i]))\n",
    "\n",
    "\n",
    "    if pid != curpid:\n",
    "        i = 0\n",
    "        curpid = pid\n",
    "    \n",
    "    images[pid] = {\n",
    "        \"PID\" : pid,\n",
    "        \"label\" : label,\n",
    "        \"FID\" : fid,\n",
    "        \"index\": i,\n",
    "        \"img_path\" : item\n",
    "    }\n",
    "    "
   ]
  },
  {
   "cell_type": "code",
   "execution_count": 9,
   "metadata": {},
   "outputs": [
    {
     "data": {
      "text/plain": "['bbx_data/01_15_orig.jpg',\n 'bbx_data/01_17_orig.jpg',\n 'bbx_data/01_21_orig.jpg',\n 'bbx_data/01_23_orig.jpg',\n 'bbx_data/01_25_orig.jpg',\n 'bbx_data/01_27_orig.jpg',\n 'bbx_data/01_29_orig.jpg',\n 'bbx_data/01_31_orig.jpg',\n 'bbx_data/01_33_orig.jpg',\n 'bbx_data/01_35_orig.jpg',\n 'bbx_data/01_37_orig.jpg',\n 'bbx_data/04_08_orig.jpg',\n 'bbx_data/04_09_orig.jpg',\n 'bbx_data/04_10_orig.jpg',\n 'bbx_data/04_11_orig.jpg',\n 'bbx_data/04_12_orig.jpg',\n 'bbx_data/04_13_orig.jpg',\n 'bbx_data/04_14_orig.jpg',\n 'bbx_data/04_15_orig.jpg',\n 'bbx_data/04_16_orig.jpg',\n 'bbx_data/04_17_orig.jpg',\n 'bbx_data/04_18_orig.jpg',\n 'bbx_data/04_19_orig.jpg',\n 'bbx_data/04_20_orig.jpg',\n 'bbx_data/04_21_orig.jpg',\n 'bbx_data/04_22_orig.jpg',\n 'bbx_data/04_23_orig.jpg',\n 'bbx_data/04_24_orig.jpg',\n 'bbx_data/04_25_orig.jpg',\n 'bbx_data/04_26_orig.jpg',\n 'bbx_data/05_09_orig.jpg',\n 'bbx_data/05_10_orig.jpg',\n 'bbx_data/05_12_orig.jpg',\n 'bbx_data/05_14_orig.jpg',\n 'bbx_data/05_15_orig.jpg',\n 'bbx_data/05_16_orig.jpg',\n 'bbx_data/05_17_orig.jpg',\n 'bbx_data/05_18_orig.jpg',\n 'bbx_data/05_19_orig.jpg',\n 'bbx_data/05_20_orig.jpg',\n 'bbx_data/06_05_orig.jpg',\n 'bbx_data/06_06_orig.jpg',\n 'bbx_data/06_07_orig.jpg',\n 'bbx_data/06_08_orig.jpg',\n 'bbx_data/06_10_orig.jpg',\n 'bbx_data/06_12_orig.jpg',\n 'bbx_data/06_14_orig.jpg',\n 'bbx_data/11_11_orig.jpg',\n 'bbx_data/11_12_orig.jpg',\n 'bbx_data/11_13_orig.jpg',\n 'bbx_data/11_14_orig.jpg',\n 'bbx_data/11_15_orig.jpg',\n 'bbx_data/11_16_orig.jpg',\n 'bbx_data/11_17_orig.jpg',\n 'bbx_data/11_18_orig.jpg',\n 'bbx_data/11_20_orig.jpg',\n 'bbx_data/11_26_orig.jpg',\n 'bbx_data/11_27_orig.jpg',\n 'bbx_data/12_13_orig.jpg',\n 'bbx_data/12_14_orig.jpg',\n 'bbx_data/12_15_orig.jpg',\n 'bbx_data/12_17_orig.jpg',\n 'bbx_data/12_18_orig.jpg',\n 'bbx_data/12_20_orig.jpg',\n 'bbx_data/12_21_orig.jpg',\n 'bbx_data/12_23_orig.jpg',\n 'bbx_data/12_24_orig.jpg',\n 'bbx_data/12_26_orig.jpg',\n 'bbx_data/12_27_orig.jpg',\n 'bbx_data/12_29_orig.jpg',\n 'bbx_data/12_30_orig.jpg',\n 'bbx_data/12_32_orig.jpg',\n 'bbx_data/12_33_orig.jpg',\n 'bbx_data/15_05_orig.jpg',\n 'bbx_data/15_06_orig.jpg',\n 'bbx_data/15_07_orig.jpg',\n 'bbx_data/15_08_orig.jpg',\n 'bbx_data/15_10_orig.jpg',\n 'bbx_data/15_17_orig.jpg',\n 'bbx_data/15_21_orig.jpg',\n 'bbx_data/17_08_orig.jpg',\n 'bbx_data/17_10_orig.jpg',\n 'bbx_data/17_12_orig.jpg',\n 'bbx_data/17_14_orig.jpg',\n 'bbx_data/17_16_orig.jpg',\n 'bbx_data/17_18_orig.jpg',\n 'bbx_data/17_20_orig.jpg',\n 'bbx_data/17_22_orig.jpg',\n 'bbx_data/17_24_orig.jpg',\n 'bbx_data/17_26_orig.jpg',\n 'bbx_data/17_28_orig.jpg',\n 'bbx_data/17_30_orig.jpg',\n 'bbx_data/17_31_orig.jpg',\n 'bbx_data/18_08_orig.jpg',\n 'bbx_data/18_09_orig.jpg',\n 'bbx_data/18_10_orig.jpg',\n 'bbx_data/18_11_orig.jpg',\n 'bbx_data/18_13_orig.jpg',\n 'bbx_data/18_15_orig.jpg',\n 'bbx_data/18_17_orig.jpg',\n 'bbx_data/18_19_orig.jpg',\n 'bbx_data/20_10_orig.jpg',\n 'bbx_data/20_11_orig.jpg',\n 'bbx_data/20_12_orig.jpg',\n 'bbx_data/20_13_orig.jpg',\n 'bbx_data/20_14_orig.jpg',\n 'bbx_data/20_15_orig.jpg',\n 'bbx_data/20_16_orig.jpg',\n 'bbx_data/20_17_orig.jpg',\n 'bbx_data/20_18_orig.jpg',\n 'bbx_data/24_09_orig.jpg',\n 'bbx_data/24_11_orig.jpg',\n 'bbx_data/24_13_orig.jpg',\n 'bbx_data/24_15_orig.jpg',\n 'bbx_data/24_17_orig.jpg',\n 'bbx_data/24_18_orig.jpg',\n 'bbx_data/25_25_orig.jpg',\n 'bbx_data/25_27_orig.jpg',\n 'bbx_data/25_29_orig.jpg',\n 'bbx_data/25_31_orig.jpg',\n 'bbx_data/25_33_orig.jpg',\n 'bbx_data/25_35_orig.jpg',\n 'bbx_data/25_36_orig.jpg',\n 'bbx_data/25_38_orig.jpg',\n 'bbx_data/25_40_orig.jpg',\n 'bbx_data/25_42_orig.jpg',\n 'bbx_data/25_44_orig.jpg',\n 'bbx_data/25_46_orig.jpg',\n 'bbx_data/33_09_orig.jpg',\n 'bbx_data/33_10_orig.jpg',\n 'bbx_data/33_11_orig.jpg',\n 'bbx_data/33_12_orig.jpg',\n 'bbx_data/33_13_orig.jpg',\n 'bbx_data/33_14_orig.jpg',\n 'bbx_data/33_15_orig.jpg',\n 'bbx_data/33_16_orig.jpg',\n 'bbx_data/33_17_orig.jpg',\n 'bbx_data/33_18_orig.jpg',\n 'bbx_data/35_09_orig.jpg',\n 'bbx_data/35_10_orig.jpg',\n 'bbx_data/35_14_orig.jpg',\n 'bbx_data/35_18_orig.jpg',\n 'bbx_data/35_21_orig.jpg',\n 'bbx_data/35_22_orig.jpg',\n 'bbx_data/35_29_orig.jpg',\n 'bbx_data/35_32_orig.jpg',\n 'bbx_data/35_38_orig.jpg',\n 'bbx_data/35_43_orig.jpg',\n 'bbx_data/35_45_orig.jpg',\n 'bbx_data/40_14_orig.jpg',\n 'bbx_data/40_16_orig.jpg',\n 'bbx_data/40_18_orig.jpg',\n 'bbx_data/40_20_orig.jpg',\n 'bbx_data/40_22_orig.jpg',\n 'bbx_data/40_24_orig.jpg',\n 'bbx_data/40_26_orig.jpg',\n 'bbx_data/40_30_orig.jpg',\n 'bbx_data/40_32_orig.jpg',\n 'bbx_data/40_34_orig.jpg',\n 'bbx_data/40_36_orig.jpg',\n 'bbx_data/42_06_orig.jpg',\n 'bbx_data/42_07_orig.jpg',\n 'bbx_data/42_08_orig.jpg',\n 'bbx_data/42_09_orig.jpg',\n 'bbx_data/42_10_orig.jpg',\n 'bbx_data/42_11_orig.jpg',\n 'bbx_data/42_12_orig.jpg',\n 'bbx_data/42_13_orig.jpg',\n 'bbx_data/42_15_orig.jpg',\n 'bbx_data/42_16_orig.jpg',\n 'bbx_data/42_17_orig.jpg',\n 'bbx_data/42_18_orig.jpg',\n 'bbx_data/42_20_orig.jpg',\n 'bbx_data/44_17_orig.jpg',\n 'bbx_data/44_20_orig.jpg',\n 'bbx_data/44_23_orig.jpg',\n 'bbx_data/44_25_orig.jpg',\n 'bbx_data/44_28_orig.jpg',\n 'bbx_data/44_31_orig.jpg',\n 'bbx_data/44_34_orig.jpg',\n 'bbx_data/44_37_orig.jpg',\n 'bbx_data/44_40_orig.jpg',\n 'bbx_data/45_09_orig.jpg',\n 'bbx_data/45_13_orig.jpg',\n 'bbx_data/45_17_orig.jpg',\n 'bbx_data/45_21_orig.jpg',\n 'bbx_data/45_25_orig.jpg',\n 'bbx_data/45_29_orig.jpg',\n 'bbx_data/45_33_orig.jpg',\n 'bbx_data/45_37_orig.jpg',\n 'bbx_data/45_41_orig.jpg',\n 'bbx_data/45_43_orig.jpg',\n 'bbx_data/45_44_orig.jpg',\n 'bbx_data/48_07_orig.jpg',\n 'bbx_data/48_08_orig.jpg',\n 'bbx_data/48_09_orig.jpg',\n 'bbx_data/48_10_orig.jpg',\n 'bbx_data/48_11_orig.jpg',\n 'bbx_data/48_12_orig.jpg',\n 'bbx_data/48_13_orig.jpg',\n 'bbx_data/48_15_orig.jpg',\n 'bbx_data/48_16_orig.jpg',\n 'bbx_data/48_17_orig.jpg',\n 'bbx_data/48_18_orig.jpg',\n 'bbx_data/48_19_orig.jpg',\n 'bbx_data/48_20_orig.jpg',\n 'bbx_data/48_21_orig.jpg',\n 'bbx_data/48_22_orig.jpg',\n 'bbx_data/48_23_orig.jpg',\n 'bbx_data/48_24_orig.jpg',\n 'bbx_data/48_25_orig.jpg',\n 'bbx_data/49_13_orig.jpg',\n 'bbx_data/49_15_orig.jpg',\n 'bbx_data/49_17_orig.jpg',\n 'bbx_data/49_19_orig.jpg',\n 'bbx_data/49_21_orig.jpg',\n 'bbx_data/50_04_orig.jpg',\n 'bbx_data/50_06_orig.jpg',\n 'bbx_data/50_08_orig.jpg',\n 'bbx_data/50_10_orig.jpg',\n 'bbx_data/51_34_orig.jpg',\n 'bbx_data/51_38_orig.jpg',\n 'bbx_data/51_41_orig.jpg',\n 'bbx_data/51_45_orig.jpg',\n 'bbx_data/51_49_orig.jpg',\n 'bbx_data/51_53_orig.jpg',\n 'bbx_data/51_59_orig.jpg',\n 'bbx_data/54_28_orig.jpg',\n 'bbx_data/54_31_orig.jpg',\n 'bbx_data/54_33_orig.jpg',\n 'bbx_data/54_35_orig.jpg',\n 'bbx_data/54_37_orig.jpg',\n 'bbx_data/54_41_orig.jpg',\n 'bbx_data/54_44_orig.jpg',\n 'bbx_data/54_48_orig.jpg',\n 'bbx_data/54_52_orig.jpg',\n 'bbx_data/54_54_orig.jpg',\n 'bbx_data/55_14_orig.jpg',\n 'bbx_data/55_16_orig.jpg',\n 'bbx_data/55_18_orig.jpg',\n 'bbx_data/55_20_orig.jpg',\n 'bbx_data/55_22_orig.jpg',\n 'bbx_data/55_24_orig.jpg',\n 'bbx_data/55_26_orig.jpg',\n 'bbx_data/55_28_orig.jpg',\n 'bbx_data/55_30_orig.jpg',\n 'bbx_data/55_32_orig.jpg',\n 'bbx_data/55_34_orig.jpg',\n 'bbx_data/55_36_orig.jpg',\n 'bbx_data/55_37_orig.jpg',\n 'bbx_data/56_15_orig.jpg',\n 'bbx_data/56_17_orig.jpg',\n 'bbx_data/56_19_orig.jpg',\n 'bbx_data/56_21_orig.jpg',\n 'bbx_data/56_23_orig.jpg',\n 'bbx_data/56_25_orig.jpg',\n 'bbx_data/56_29_orig.jpg',\n 'bbx_data/56_31_orig.jpg',\n 'bbx_data/56_33_orig.jpg',\n 'bbx_data/56_37_orig.jpg',\n 'bbx_data/56_39_orig.jpg',\n 'bbx_data/56_41_orig.jpg',\n 'bbx_data/57_10_orig.jpg',\n 'bbx_data/57_11_orig.jpg',\n 'bbx_data/57_12_orig.jpg',\n 'bbx_data/57_13_orig.jpg',\n 'bbx_data/57_14_orig.jpg',\n 'bbx_data/57_15_orig.jpg',\n 'bbx_data/57_17_orig.jpg',\n 'bbx_data/57_18_orig.jpg',\n 'bbx_data/57_19_orig.jpg',\n 'bbx_data/57_20_orig.jpg',\n 'bbx_data/57_21_orig.jpg',\n 'bbx_data/57_22_orig.jpg',\n 'bbx_data/57_23_orig.jpg',\n 'bbx_data/57_24_orig.jpg',\n 'bbx_data/57_26_orig.jpg',\n 'bbx_data/57_28_orig.jpg',\n 'bbx_data/57_30_orig.jpg',\n 'bbx_data/57_32_orig.jpg',\n 'bbx_data/58_17_orig.jpg',\n 'bbx_data/58_19_orig.jpg',\n 'bbx_data/58_21_orig.jpg',\n 'bbx_data/58_23_orig.jpg',\n 'bbx_data/58_25_orig.jpg',\n 'bbx_data/58_27_orig.jpg',\n 'bbx_data/58_29_orig.jpg',\n 'bbx_data/58_31_orig.jpg',\n 'bbx_data/58_33_orig.jpg',\n 'bbx_data/58_35_orig.jpg',\n 'bbx_data/58_37_orig.jpg',\n 'bbx_data/58_39_orig.jpg',\n 'bbx_data/58_41_orig.jpg',\n 'bbx_data/60_14_orig.jpg',\n 'bbx_data/60_16_orig.jpg',\n 'bbx_data/60_18_orig.jpg',\n 'bbx_data/60_28_orig.jpg',\n 'bbx_data/60_30_orig.jpg',\n 'bbx_data/60_32_orig.jpg',\n 'bbx_data/60_33_orig.jpg',\n 'bbx_data/61_09_orig.jpg',\n 'bbx_data/61_10_orig.jpg',\n 'bbx_data/61_11_orig.jpg',\n 'bbx_data/61_12_orig.jpg',\n 'bbx_data/61_13_orig.jpg',\n 'bbx_data/61_14_orig.jpg',\n 'bbx_data/61_15_orig.jpg',\n 'bbx_data/61_16_orig.jpg',\n 'bbx_data/61_17_orig.jpg',\n 'bbx_data/61_19_orig.jpg',\n 'bbx_data/61_20_orig.jpg',\n 'bbx_data/63_06_orig.jpg',\n 'bbx_data/63_07_orig.jpg',\n 'bbx_data/63_08_orig.jpg',\n 'bbx_data/63_09_orig.jpg',\n 'bbx_data/63_10_orig.jpg',\n 'bbx_data/63_11_orig.jpg',\n 'bbx_data/63_12_orig.jpg',\n 'bbx_data/63_13_orig.jpg',\n 'bbx_data/63_14_orig.jpg',\n 'bbx_data/63_15_orig.jpg',\n 'bbx_data/63_16_orig.jpg',\n 'bbx_data/63_17_orig.jpg',\n 'bbx_data/63_18_orig.jpg',\n 'bbx_data/63_19_orig.jpg',\n 'bbx_data/63_20_orig.jpg',\n 'bbx_data/63_21_orig.jpg',\n 'bbx_data/64_12_orig.jpg',\n 'bbx_data/64_13_orig.jpg',\n 'bbx_data/64_14_orig.jpg',\n 'bbx_data/64_15_orig.jpg',\n 'bbx_data/64_16_orig.jpg',\n 'bbx_data/64_17_orig.jpg',\n 'bbx_data/64_18_orig.jpg',\n 'bbx_data/64_19_orig.jpg',\n 'bbx_data/66_12_orig.jpg',\n 'bbx_data/66_14_orig.jpg',\n 'bbx_data/66_16_orig.jpg',\n 'bbx_data/66_18_orig.jpg',\n 'bbx_data/66_20_orig.jpg',\n 'bbx_data/66_22_orig.jpg',\n 'bbx_data/66_24_orig.jpg',\n 'bbx_data/66_27_orig.jpg',\n 'bbx_data/66_30_orig.jpg',\n 'bbx_data/66_32_orig.jpg',\n 'bbx_data/67_18_orig.jpg',\n 'bbx_data/67_19_orig.jpg',\n 'bbx_data/67_20_orig.jpg',\n 'bbx_data/67_22_orig.jpg',\n 'bbx_data/67_23_orig.jpg',\n 'bbx_data/67_24_orig.jpg',\n 'bbx_data/67_25_orig.jpg',\n 'bbx_data/67_26_orig.jpg',\n 'bbx_data/67_27_orig.jpg',\n 'bbx_data/67_31_orig.jpg',\n 'bbx_data/68_10_orig.jpg',\n 'bbx_data/68_12_orig.jpg',\n 'bbx_data/68_14_orig.jpg',\n 'bbx_data/68_16_orig.jpg',\n 'bbx_data/68_18_orig.jpg',\n 'bbx_data/68_20_orig.jpg',\n 'bbx_data/68_22_orig.jpg',\n 'bbx_data/68_24_orig.jpg',\n 'bbx_data/68_26_orig.jpg',\n 'bbx_data/68_28_orig.jpg',\n 'bbx_data/69_09_orig.jpg',\n 'bbx_data/69_11_orig.jpg',\n 'bbx_data/69_13_orig.jpg',\n 'bbx_data/69_15_orig.jpg',\n 'bbx_data/69_18_orig.jpg',\n 'bbx_data/69_20_orig.jpg',\n 'bbx_data/69_22_orig.jpg',\n 'bbx_data/69_24_orig.jpg',\n 'bbx_data/69_26_orig.jpg',\n 'bbx_data/69_28_orig.jpg',\n 'bbx_data/69_30_orig.jpg',\n 'bbx_data/69_32_orig.jpg',\n 'bbx_data/69_34_orig.jpg',\n 'bbx_data/69_36_orig.jpg',\n 'bbx_data/69_38_orig.jpg',\n 'bbx_data/69_40_orig.jpg',\n 'bbx_data/70_16_orig.jpg',\n 'bbx_data/70_18_orig.jpg',\n 'bbx_data/70_20_orig.jpg',\n 'bbx_data/70_22_orig.jpg',\n 'bbx_data/70_23_orig.jpg',\n 'bbx_data/70_25_orig.jpg',\n 'bbx_data/70_27_orig.jpg',\n 'bbx_data/70_48_orig.jpg',\n 'bbx_data/70_51_orig.jpg',\n 'bbx_data/71_08_orig.jpg',\n 'bbx_data/71_09_orig.jpg',\n 'bbx_data/71_11_orig.jpg',\n 'bbx_data/71_12_orig.jpg',\n 'bbx_data/71_14_orig.jpg',\n 'bbx_data/71_16_orig.jpg',\n 'bbx_data/71_18_orig.jpg',\n 'bbx_data/71_20_orig.jpg',\n 'bbx_data/71_22_orig.jpg',\n 'bbx_data/71_24_orig.jpg',\n 'bbx_data/71_26_orig.jpg',\n 'bbx_data/71_28_orig.jpg',\n 'bbx_data/71_31_orig.jpg',\n 'bbx_data/71_34_orig.jpg',\n 'bbx_data/71_38_orig.jpg',\n 'bbx_data/71_42_orig.jpg',\n 'bbx_data/71_44_orig.jpg',\n 'bbx_data/71_51_orig.jpg',\n 'bbx_data/72_05_orig.jpg',\n 'bbx_data/72_07_orig.jpg',\n 'bbx_data/72_09_orig.jpg',\n 'bbx_data/72_11_orig.jpg',\n 'bbx_data/72_13_orig.jpg',\n 'bbx_data/72_15_orig.jpg',\n 'bbx_data/72_17_orig.jpg',\n 'bbx_data/73_56_orig.jpg',\n 'bbx_data/73_58_orig.jpg',\n 'bbx_data/73_62_orig.jpg',\n 'bbx_data/73_64_orig.jpg',\n 'bbx_data/73_66_orig.jpg',\n 'bbx_data/73_68_orig.jpg',\n 'bbx_data/73_70_orig.jpg',\n 'bbx_data/73_72_orig.jpg',\n 'bbx_data/73_74_orig.jpg',\n 'bbx_data/73_76_orig.jpg',\n 'bbx_data/73_78_orig.jpg',\n 'bbx_data/73_80_orig.jpg',\n 'bbx_data/73_82_orig.jpg',\n 'bbx_data/73_83_orig.jpg',\n 'bbx_data/74_30_orig.jpg',\n 'bbx_data/74_32_orig.jpg',\n 'bbx_data/74_36_orig.jpg',\n 'bbx_data/74_38_orig.jpg',\n 'bbx_data/74_40_orig.jpg',\n 'bbx_data/74_42_orig.jpg',\n 'bbx_data/74_44_orig.jpg',\n 'bbx_data/74_48_orig.jpg',\n 'bbx_data/74_50_orig.jpg',\n 'bbx_data/74_52_orig.jpg',\n 'bbx_data/74_54_orig.jpg',\n 'bbx_data/74_56_orig.jpg',\n 'bbx_data/74_58_orig.jpg',\n 'bbx_data/75_23_orig.jpg',\n 'bbx_data/75_25_orig.jpg',\n 'bbx_data/75_27_orig.jpg',\n 'bbx_data/75_29_orig.jpg',\n 'bbx_data/75_31_orig.jpg',\n 'bbx_data/75_33_orig.jpg',\n 'bbx_data/75_35_orig.jpg',\n 'bbx_data/75_37_orig.jpg',\n 'bbx_data/75_39_orig.jpg',\n 'bbx_data/75_41_orig.jpg',\n 'bbx_data/75_43_orig.jpg',\n 'bbx_data/75_45_orig.jpg',\n 'bbx_data/75_47_orig.jpg',\n 'bbx_data/75_49_orig.jpg',\n 'bbx_data/75_51_orig.jpg',\n 'bbx_data/75_53_orig.jpg',\n 'bbx_data/75_55_orig.jpg',\n 'bbx_data/75_57_orig.jpg',\n 'bbx_data/75_59_orig.jpg',\n 'bbx_data/75_61_orig.jpg',\n 'bbx_data/75_63_orig.jpg',\n 'bbx_data/75_65_orig.jpg',\n 'bbx_data/75_67_orig.jpg',\n 'bbx_data/75_69_orig.jpg',\n 'bbx_data/75_71_orig.jpg',\n 'bbx_data/75_73_orig.jpg',\n 'bbx_data/75_74_orig.jpg']"
     },
     "execution_count": 9,
     "metadata": {},
     "output_type": "execute_result"
    }
   ],
   "source": [
    "imageList"
   ]
  },
  {
   "cell_type": "code",
   "execution_count": 28,
   "metadata": {},
   "outputs": [
    {
     "data": {
      "text/plain": "{'PID': '68',\n 'label': [0.0, 0.325, 0.50875, 0.055, 0.0725],\n 'FID': '16',\n 'img_path': 'bbx_data/68_16_orig.jpg'}"
     },
     "execution_count": 28,
     "metadata": {},
     "output_type": "execute_result"
    }
   ],
   "source": [
    "images['68_16_orig.jpg']"
   ]
  },
  {
   "cell_type": "code",
   "execution_count": 29,
   "metadata": {},
   "outputs": [],
   "source": [
    "with open('data_aug.json', 'w', encoding='utf-8') as f:\n",
    "    json.dump(images, f)\n",
    "\n"
   ]
  },
  {
   "cell_type": "code",
   "execution_count": null,
   "metadata": {},
   "outputs": [],
   "source": []
  }
 ]
}